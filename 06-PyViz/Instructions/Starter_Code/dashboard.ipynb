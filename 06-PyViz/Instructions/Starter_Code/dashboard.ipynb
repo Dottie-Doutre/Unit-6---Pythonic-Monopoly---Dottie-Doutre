{
 "cells": [
  {
   "cell_type": "markdown",
   "metadata": {},
   "source": [
    "# Toronto Dwellings Analysis Dashboard\n",
    "\n",
    "In this notebook, you will compile the visualizations from the previous analysis into functions to create a Panel dashboard."
   ]
  },
  {
   "cell_type": "code",
   "execution_count": 15,
   "metadata": {},
   "outputs": [],
   "source": [
    "# imports\n",
    "import panel as pn\n",
    "pn.extension('plotly')\n",
    "import plotly.express as px\n",
    "import pandas as pd\n",
    "import hvplot.pandas\n",
    "import matplotlib.pyplot as plt\n",
    "import os\n",
    "from pathlib import Path\n",
    "from dotenv import load_dotenv"
   ]
  },
  {
   "cell_type": "code",
   "execution_count": 16,
   "metadata": {},
   "outputs": [],
   "source": [
    "# Initialize the Panel Extensions (for Plotly)\n",
    "import panel as pn\n",
    "pn.extension(\"plotly\")"
   ]
  },
  {
   "cell_type": "code",
   "execution_count": 17,
   "metadata": {},
   "outputs": [],
   "source": [
    "# Read the Mapbox API key\n",
    "load_dotenv()\n",
    "map_box_api = os.getenv(\"mapbox\")\n",
    "px.set_mapbox_access_token(map_box_api)"
   ]
  },
  {
   "cell_type": "markdown",
   "metadata": {},
   "source": [
    "# Import Data"
   ]
  },
  {
   "cell_type": "code",
   "execution_count": 18,
   "metadata": {},
   "outputs": [],
   "source": [
    "# Import the CSVs to Pandas DataFrames\n",
    "file_path = Path(\"Data/toronto_neighbourhoods_census_data.csv\")\n",
    "to_data = pd.read_csv(file_path, index_col=\"year\")\n",
    "\n",
    "file_path = Path(\"Data/toronto_neighbourhoods_coordinates.csv\")\n",
    "df_neighbourhood_locations = pd.read_csv(file_path, index_col=\"neighbourhood\")"
   ]
  },
  {
   "cell_type": "markdown",
   "metadata": {},
   "source": [
    "- - -"
   ]
  },
  {
   "cell_type": "markdown",
   "metadata": {},
   "source": [
    "## Panel Visualizations\n",
    "\n",
    "In this section, you will copy the code for each plot type from your analysis notebook and place it into separate functions that Panel can use to create panes for the dashboard. \n",
    "\n",
    "These functions will convert the plot object to a Panel pane.\n",
    "\n",
    "Be sure to include any DataFrame transformation/manipulation code required along with the plotting code.\n",
    "\n",
    "Return a Panel pane object from each function that can be used to build the dashboard.\n",
    "\n",
    "Note: Remove any `.show()` lines from the code. We want to return the plots instead of showing them. The Panel dashboard will then display the plots."
   ]
  },
  {
   "cell_type": "markdown",
   "metadata": {},
   "source": [
    "### Global available data"
   ]
  },
  {
   "cell_type": "code",
   "execution_count": 19,
   "metadata": {},
   "outputs": [],
   "source": [
    "# Getting the data from the top 10 expensive neighbourhoods\n",
    "## Utilised original data = to_data, sorted values based on average_house_value\n",
    "top_10 = to_data.groupby(\"neighbourhood\").mean()\n",
    "top_10 = top_10.sort_values(by=\"average_house_value\", ascending=False).head(10)\n",
    "top_10.reset_index(inplace=True)\n",
    "\n",
    "# Reformatting data for plotting for dashboard\n",
    "## Source data = top_10\n",
    "plot_df_top10 = top_10.set_index(\"neighbourhood\")\n",
    "plot_df_top10 = plot_df_top10[\"average_house_value\"]\n",
    "\n",
    "# Calculate the mean number of dwelling types units per year\n",
    "## Utilised original source data to_data, groupby variable \"neighbourhood\" and then calculated the mean\n",
    "neighbourhood_df = to_data.reset_index()\n",
    "neighbourhood_df = neighbourhood_df.drop(\"year\", axis=1)\n",
    "neighbourhood_mean_df = neighbourhood_df.groupby(\"neighbourhood\").mean()\n",
    "\n",
    "# Calculate the average monthly shelter costs for owned and rented dwellings\n",
    "## Utilised original to_data, groupby variable year and then calculated the mean\n",
    "### To be used for line plot in dashboard\n",
    "avg_month_dwellings = to_data[[\"shelter_costs_owned\",\"shelter_costs_rented\"]].groupby(\"year\").mean()\n",
    "\n",
    "# Dataframe df_dwelling\n",
    "df_dwelling = to_data[[\"single_detached_house\",\"apartment_five_storeys_plus\",\n",
    "                             \"movable_dwelling\",\"semi_detached_house\",\"row_house\",\"duplex\",\n",
    "                             \"apartment_five_storeys_less\",\"other_house\"]].groupby(\"year\").sum()\n",
    "\n",
    "# Calculate the average house value\n",
    "avg_house_val = to_data[\"average_house_value\"].groupby(\"year\").mean()\n",
    "\n",
    "# Create a new DataFrame with the mean house values by neighbourhood per year\n",
    "avg_neighbourhood_val = to_data.reset_index()\n",
    "avg_neighbourhood_val = avg_neighbourhood_val[[\"year\",\"neighbourhood\",\"average_house_value\"]]\n",
    "\n",
    "# Fetch the data of all dwelling types per year\n",
    "all_dwellings = to_data.reset_index()\n",
    "\n",
    "neighbourhood_df = to_data.reset_index()\n",
    "neighbourhood_df = neighbourhood_df.drop(\"year\", axis=1)\n",
    "neighbourhood_mean_df = neighbourhood_df.groupby(\"neighbourhood\").mean()\n",
    "\n",
    "neighbourhood_joined_df = pd.concat([df_neighbourhood_locations,neighbourhood_mean_df], axis=\"columns\", join=\"outer\")\n",
    "\n",
    "#Reset org data index\n",
    "##Renamed avergae_house_value column for row facet plot\n",
    "reset_to_data = to_data.reset_index()\n",
    "row_data = reset_to_data.rename({\"average_house_value\":\"Avg. House Value\"}, axis=1)\n",
    "\n",
    "# Fetch the data of all dwelling types per year\n",
    "all_dwellings = to_data.reset_index()\n",
    "num_dwellings = all_dwellings.drop(columns=[\"average_house_value\",\"shelter_costs_owned\",\"shelter_costs_rented\"], axis=1)\n",
    "\n",
    "# Fetch the data from all expensive neighbourhoods per year.\n",
    "top_sorted = to_data.sort_values(by=[\"year\",\"average_house_value\"], ascending=(False,False))\n",
    "top_sorted.reset_index(inplace=True)\n",
    "\n",
    "#Top 10 data for sunburst in 2001\n",
    "options = [2001]\n",
    "top_10_2001 = top_sorted.loc[top_sorted[\"year\"].isin(options)]\n",
    "top_10_2001.sort_values(by=\"average_house_value\", ascending=False).head(10)\n",
    "top_10_2001 = top_10_2001.iloc[0:10]\n",
    "\n",
    "#Top 10 data for sunburst in 2006\n",
    "options = [2006]\n",
    "top_10_2006 = top_sorted.loc[top_sorted[\"year\"].isin(options)]\n",
    "top_10_2006.sort_values(by=\"average_house_value\", ascending=False).head(10)\n",
    "top_10_2006 = top_10_2006.iloc[0:10]\n",
    "\n",
    "#Top 10 data for sunburst in 2011\n",
    "options = [2011]\n",
    "top_10_2011 = top_sorted.loc[top_sorted[\"year\"].isin(options)]\n",
    "top_10_2011.sort_values(by=\"average_house_value\", ascending=False).head(10)\n",
    "top_10_2011 = top_10_2011.iloc[0:10]\n",
    "\n",
    "#Top 10 data for sunburst in 2016\n",
    "options = [2016]\n",
    "top_10_2016 = top_sorted.loc[top_sorted[\"year\"].isin(options)]\n",
    "top_10_2016.sort_values(by=\"average_house_value\", ascending=False).head(10)\n",
    "top_10_2016 = top_10_2016.iloc[0:10]\n",
    "\n",
    "#Top 10 combined data for sunburst\n",
    "top_10_sun_combo = pd.concat([top_10_2001,top_10_2006,top_10_2011,top_10_2016])"
   ]
  },
  {
   "cell_type": "markdown",
   "metadata": {},
   "source": [
    "### Panel Visualization Functions"
   ]
  },
  {
   "cell_type": "code",
   "execution_count": 31,
   "metadata": {},
   "outputs": [],
   "source": [
    "# Define Panel visualization functions\n",
    "## Each section seperated into different tabs\n",
    "\n",
    "\"\"\"\n",
    "    Following def function will make up the first tab = Welcome\n",
    "    1. neighbourhood_map\n",
    "\"\"\"\n",
    "    \n",
    "def neighbourhood_map():\n",
    "    \n",
    "    \"\"\"Neighbourhood Map\"\"\" \n",
    "    \n",
    "    neigh_map = px.scatter_mapbox(\n",
    "        neighbourhood_joined_df,\n",
    "        lat=\"lat\",\n",
    "        lon=\"lon\",\n",
    "        color=\"average_house_value\",\n",
    "        title =\"Average House Values in Toronto\",\n",
    "        mapbox_style=\"open-street-map\")\n",
    "    \n",
    "    return neigh_map"
   ]
  },
  {
   "cell_type": "code",
   "execution_count": 21,
   "metadata": {},
   "outputs": [],
   "source": [
    "\"\"\"\n",
    "    Following def function will make up the second tab = Yearly Market Analysis\n",
    "    1. create_bar_chart\n",
    "\"\"\"\n",
    "\n",
    "def create_bar_chart(data, title, xlabel, ylabel, color):\n",
    "    \"\"\"\n",
    "    Create a barplot based in the data argument.\n",
    "    \"\"\"\n",
    "    \"\"\"\n",
    "    These barplots will be put together within the second tab under Yearly Markey Analysis\n",
    "    \"\"\"\n",
    "    create_bar_chart = pd.DataFrame(data).plot(kind=\"bar\", title=title, xlabel=xlabel, ylabel=ylabel, color=color)\n",
    "\n",
    "    create_bar_chart(df_dwelling.iloc[0],\"Dwelling Types Toronto 2001\", \"2001\",\"Dwelling Type Units\", \"red\")\n",
    "    create_bar_chart(df_dwelling.iloc[1],\"Dwelling Types Toronto 2006\", \"2006\",\"Dwelling Type Units\", \"royalblue\")\n",
    "    create_bar_chart(df_dwelling.iloc[2],\"Dwelling Types Toronto 2011\", \"2011\",\"Dwelling Type Units\", \"orange\")\n",
    "    create_bar_chart(df_dwelling.iloc[3],\"Dwelling Types Toronto 2016\", \"2016\",\"Dwelling Type Units\", \"pink\")"
   ]
  },
  {
   "cell_type": "code",
   "execution_count": 30,
   "metadata": {},
   "outputs": [
    {
     "ename": "NameError",
     "evalue": "name 'df_dwelling' is not defined",
     "output_type": "error",
     "traceback": [
      "\u001b[1;31m---------------------------------------------------------------------------\u001b[0m",
      "\u001b[1;31mNameError\u001b[0m                                 Traceback (most recent call last)",
      "\u001b[1;32m~\\AppData\\Local\\Temp/ipykernel_23412/3322796751.py\u001b[0m in \u001b[0;36m<module>\u001b[1;34m\u001b[0m\n\u001b[0;32m      1\u001b[0m \u001b[1;31m# # Creating short names for bar charts\u001b[0m\u001b[1;33m\u001b[0m\u001b[1;33m\u001b[0m\u001b[1;33m\u001b[0m\u001b[0m\n\u001b[0;32m      2\u001b[0m \u001b[1;33m\u001b[0m\u001b[0m\n\u001b[1;32m----> 3\u001b[1;33m \u001b[0mred_bar\u001b[0m \u001b[1;33m=\u001b[0m \u001b[0mcreate_bar_chart\u001b[0m\u001b[1;33m(\u001b[0m\u001b[0mdf_dwelling\u001b[0m\u001b[1;33m.\u001b[0m\u001b[0miloc\u001b[0m\u001b[1;33m[\u001b[0m\u001b[1;36m0\u001b[0m\u001b[1;33m]\u001b[0m\u001b[1;33m,\u001b[0m\u001b[1;34m\"Dwelling Types Toronto 2001\"\u001b[0m\u001b[1;33m,\u001b[0m \u001b[1;34m\"2001\"\u001b[0m\u001b[1;33m,\u001b[0m\u001b[1;34m\"Dwelling Type Units\"\u001b[0m\u001b[1;33m,\u001b[0m \u001b[1;34m\"red\"\u001b[0m\u001b[1;33m)\u001b[0m\u001b[1;33m\u001b[0m\u001b[1;33m\u001b[0m\u001b[0m\n\u001b[0m\u001b[0;32m      4\u001b[0m \u001b[1;31m# blue_bar = create_bar_chart(df_dwelling.iloc[1],\"Dwelling Types Toronto 2006\", \"2006\",\"Dwelling Type Units\", \"royalblue\")\u001b[0m\u001b[1;33m\u001b[0m\u001b[1;33m\u001b[0m\u001b[1;33m\u001b[0m\u001b[0m\n\u001b[0;32m      5\u001b[0m \u001b[1;31m# orange_bar = create_bar_chart(df_dwelling.iloc[2],\"Dwelling Types Toronto 2011\", \"2011\",\"Dwelling Type Units\", \"orange\")\u001b[0m\u001b[1;33m\u001b[0m\u001b[1;33m\u001b[0m\u001b[1;33m\u001b[0m\u001b[0m\n",
      "\u001b[1;31mNameError\u001b[0m: name 'df_dwelling' is not defined"
     ]
    }
   ],
   "source": [
    "# # Creating short names for bar charts\n",
    "\n",
    "# red_bar = create_bar_chart(df_dwelling.iloc[0],\"Dwelling Types Toronto 2001\", \"2001\",\"Dwelling Type Units\", \"red\")\n",
    "# blue_bar = create_bar_chart(df_dwelling.iloc[1],\"Dwelling Types Toronto 2006\", \"2006\",\"Dwelling Type Units\", \"royalblue\")\n",
    "# orange_bar = create_bar_chart(df_dwelling.iloc[2],\"Dwelling Types Toronto 2011\", \"2011\",\"Dwelling Type Units\", \"orange\")\n",
    "# pink_bar = create_bar_chart(df_dwelling.iloc[3],\"Dwelling Types Toronto 2016\", \"2016\",\"Dwelling Type Units\", \"pink\")"
   ]
  },
  {
   "cell_type": "code",
   "execution_count": 23,
   "metadata": {},
   "outputs": [],
   "source": [
    "\"\"\"\n",
    "    Following def functions will make up the third tab = Shelter Costs vs House Value\n",
    "    1. create_line_chart\n",
    "    2. average_house_value\n",
    "\"\"\"\n",
    "    \n",
    "def create_line_chart(data, title, xlabel, ylabel, color):\n",
    "    \"\"\"\n",
    "    Create a line chart based in the data argument.\n",
    "    \"\"\"\n",
    "    \n",
    "    create_line_chart = pd.DataFrame(data).plot(kind=\"line\", title=title, xlabel=xlabel, ylabel=ylabel, color=color)\n",
    "    \n",
    "    return create_line_chart\n",
    "\n",
    "    create_line_chart(avg_month_dwellings[\"shelter_costs_owned\"],\"Average Monthly Shelter Cost for Owned Dwellings in Toronto\", \"year\", \"Avg Monthly Shelter Costs\", \"blue\")\n",
    "    create_line_chart(avg_month_dwellings[\"shelter_costs_rented\"],\"Average Monthly Shelter Cost for Owned Dwellings in Toronto\", \"year\", \"Avg Monthly Shelter Costs\", \"red\")\n",
    "    \n",
    "def average_house_value(data, title, xlabel, ylabel, color):\n",
    "    \"\"\"Average house values per year.\"\"\"\n",
    "\n",
    "    average_house_value = pd.DataFrame(data).plot(kind=\"line\", title=title, xlabel=xlabel, ylabel=ylabel, color=color)\n",
    "    \n",
    "    average_house_value(avg_house_val,\"Average House Value in Toronto\", \"year\", \"Avg House Value\", \"green\")"
   ]
  },
  {
   "cell_type": "code",
   "execution_count": 24,
   "metadata": {},
   "outputs": [],
   "source": [
    "# # Creating short names for line charts\n",
    "\n",
    "# line_blue =create_line_chart(avg_month_dwellings[\"shelter_costs_owned\"],\"Average Monthly Shelter Cost for Owned Dwellings in Toronto\", \"year\", \"Avg Monthly Shelter Costs\", \"blue\")\n",
    "# line_red = create_line_chart(avg_month_dwellings[\"shelter_costs_rented\"],\"Average Monthly Shelter Cost for Owned Dwellings in Toronto\", \"year\", \"Avg Monthly Shelter Costs\", \"red\")\n",
    "# line_avg = average_house_value(avg_house_val,\"Average House Value in Toronto\", \"year\", \"Avg House Value\", \"green\")"
   ]
  },
  {
   "cell_type": "code",
   "execution_count": 25,
   "metadata": {},
   "outputs": [],
   "source": [
    "\"\"\"\n",
    "    Following def functions will make up the fourth tab = Neighbourhood Analysis\n",
    "    1. average_value_by_neighbourhood\n",
    "    2. number_dwelling_types\n",
    "    3. average_house_value_snapshot\n",
    "\"\"\"\n",
    "\n",
    "def average_value_by_neighbourhood():\n",
    "    \"\"\"Average house values by neighbourhood.\"\"\"\n",
    "    avg_neighbourhood_val.hvplot.line(x=\"year\", y=\"average_house_value\", groupby=\"neighbourhood\").opts(yformatter=\"%.0f\")\n",
    "\n",
    "def number_dwelling_types():\n",
    "    \"\"\"Number of dwelling types per year\"\"\"\n",
    "    num_dwellings.hvplot.bar(x=\"year\", groupby=\"neighbourhood\", rot=90, height=600).opts(yformatter=\"%.0f\")\n",
    "\n",
    "def average_house_value_snapshot():\n",
    "    \"\"\"Average house value for all Toronto's neighbourhoods per year.\"\"\"\n",
    "    row_dwellings_plot = px.bar(\n",
    "        row_data,\n",
    "        x=\"neighbourhood\",\n",
    "        y=\"Avg. House Value\",\n",
    "        color=\"Avg. House Value\",\n",
    "        facet_row=\"year\",\n",
    "        title=\"Number of Dwelling Types Per Year\",\n",
    "        width=1200,\n",
    "        height=1200)"
   ]
  },
  {
   "cell_type": "code",
   "execution_count": 26,
   "metadata": {},
   "outputs": [],
   "source": [
    "\"\"\"\n",
    "    Following def functions will make up the fifth tab = Top Expensive Neighbourhoods\n",
    "    1. top_most_expensive_neighbourhoods\n",
    "    2. sunburts_cost_analysis\n",
    "\"\"\"\n",
    "\n",
    "def top_most_expensive_neighbourhoods():\n",
    "    \n",
    "    \"\"\"Top 10 most expensive neighbourhoods.\"\"\"\n",
    "    plot_df_top10.hvplot.bar(x=\"neighbourhood\", ylabel=\"Avg. House Value\", title=\"The Top 10 Most Expensive Neighbourhoods\", rot=90, height=600).opts(yformatter=\"%.0f\")\n",
    "\n",
    "    return plot_df_top10\n",
    "\n",
    "def sunburts_cost_analysis():\n",
    "    \"\"\"Sunburst chart to conduct a costs analysis of most expensive neighbourhoods in Toronto per year.\"\"\"\n",
    "    combo_sunburst =px.sunburst(\n",
    "        top_10_sun_combo,\n",
    "        path=['year','neighbourhood'],\n",
    "        values=\"average_house_value\",\n",
    "        color='shelter_costs_owned',\n",
    "        title=\"Costs of Most Expensive Neighbourhoods in Toronto per Year\",\n",
    "        height=600)\n",
    "    \n",
    "    return combo_sunburst"
   ]
  },
  {
   "cell_type": "markdown",
   "metadata": {},
   "source": [
    "## Panel Dashboard\n",
    "\n",
    "In this section, you will combine all of the plots into a single dashboard view using Panel. Be creative with your dashboard design!"
   ]
  },
  {
   "cell_type": "code",
   "execution_count": 27,
   "metadata": {},
   "outputs": [],
   "source": [
    "# Create a Title for the Dashboard\n",
    "\n",
    "dasboard_title= \"#Real Estate Analysis of Toronto from 2001 to 2016\"\n",
    "\n",
    "# Define a welcome text\n",
    "\n",
    "dashboard_desc = \"Welcome! This dashboard's goal is to provide charts, maps, and interactive visualizations that help customers explore the data and determine if they want to invest in rental properties in Toronto.\""
   ]
  },
  {
   "cell_type": "code",
   "execution_count": null,
   "metadata": {},
   "outputs": [],
   "source": [
    "# Prep work for dashboard\n",
    "\n",
    "# welcome_column = pn.Column(\"##This dashboard's goal is to provide charts, maps, and interactive visualizations that help customers explore the data and determine if they want to invest in rental properties in Toronto.\", neighbourhood_map())\n",
    "\n",
    "# # row_one_of_two = pn.Row(red_bar)\n",
    "# # row_one_of_two.append(blue_bar)\n",
    "\n",
    "# # row_two_of_two = pn.Row(orange_bar)\n",
    "# # row_two_of_two.append(pink_bar)\n",
    "\n",
    "# row_of_neigh = pn.Row(average_value_by_neighbourhood())\n",
    "# row_of_neigh.append(number_dwelling_types())\n",
    "\n",
    "# barplots_as_column = pn.Column(\n",
    "#     \"#Yearly Market Analysis - Dwelling Types\", create_bar_chart)\n",
    "\n",
    "# shelter_column = pn.Column(\n",
    "#     \"#Analysis - Shelter vs House Value\", create_line_chart, average_house_value)\n",
    "\n",
    "# neighbourhood_column = pn.Column(\n",
    "#     \"#Neighbourhood Analysis\", row_of_neigh, row_dwellings_plot)\n",
    "\n",
    "# expensive_row = pn.Row(plot_df_top10, combo_sunburst)"
   ]
  },
  {
   "cell_type": "code",
   "execution_count": null,
   "metadata": {},
   "outputs": [],
   "source": [
    "# Create a tab layout for the dashboard\n",
    "\n",
    "tabs = pn.Tabs(\n",
    "    (\"Welcome\", welcome_column),\n",
    "    (\"Yearly Market Analysis\", barplots_as_column),\n",
    "    (\"Shelter Costs vs House Value\", shelter_column)\n",
    "    (\"Neighbourhood Analysis\", neighbourhood_column)\n",
    "    (\"Top 10 Expensive\", row_expensive)\n",
    ")\n",
    "tabs"
   ]
  },
  {
   "cell_type": "code",
   "execution_count": null,
   "metadata": {},
   "outputs": [],
   "source": [
    "# Create the Dashboard\n",
    "real_estate_dashboard"
   ]
  },
  {
   "cell_type": "markdown",
   "metadata": {},
   "source": [
    "## Serve the Panel Dashboard"
   ]
  },
  {
   "cell_type": "code",
   "execution_count": null,
   "metadata": {},
   "outputs": [],
   "source": [
    "real_estate_dashboard.servable()"
   ]
  },
  {
   "cell_type": "markdown",
   "metadata": {},
   "source": [
    "# Debugging\n",
    "\n",
    "Note: Some of the Plotly express plots may not render in the notebook through the panel functions.\n",
    "\n",
    "However, you can test each plot by uncommenting the following code"
   ]
  },
  {
   "cell_type": "code",
   "execution_count": null,
   "metadata": {},
   "outputs": [],
   "source": [
    "neighbourhood_map().show()"
   ]
  },
  {
   "cell_type": "code",
   "execution_count": null,
   "metadata": {},
   "outputs": [],
   "source": [
    "# create_bar_chart(data, title, xlabel, ylabel, color)\n",
    "\n",
    "# # Bar chart for 2001\n",
    "# create_bar_chart(df_dwelling_units.loc[2001], \"Dwelling Types in Toronto in 2001\", \"2001\", \"Dwelling Type Units\", \"red\")\n",
    "\n",
    "# # Bar chart for 2006\n",
    "# create_bar_chart(df_dwelling_units.loc[2006], \"Dwelling Types in Toronto in 2006\", \"2006\", \"Dwelling Type Units\", \"blue\")\n",
    "\n",
    "# # Bar chart for 2011\n",
    "# create_bar_chart(df_dwelling_units.loc[2011], \"Dwelling Types in Toronto in 2011\", \"2011\", \"Dwelling Type Units\", \"orange\")\n",
    "\n",
    "# # Bar chart for 2016\n",
    "# create_bar_chart(df_dwelling_units.loc[2016], \"Dwelling Types in Toronto in 2016\", \"2016\", \"Dwelling Type Units\", \"magenta\")"
   ]
  },
  {
   "cell_type": "code",
   "execution_count": null,
   "metadata": {},
   "outputs": [],
   "source": [
    "# create_line_chart(data, title, xlabel, ylabel, color)\n",
    "\n",
    "# # Line chart for owned dwellings\n",
    "# create_line_chart(df_avg_costs[\"shelter_costs_owned\"], \"Average Monthly Shelter Cost for Owned Dwellings in Toronto\", \"Year\", \"Avg Monthly Shelter Costs\", \"blue\")\n",
    "\n",
    "# # Line chart for rented dwellings\n",
    "# create_line_chart(df_avg_costs[\"shelter_costs_rented\"], \"Average Monthly Shelter Cost for Rented Dwellings in Toronto\", \"Year\", \"Avg Monthly Shelter Costs\", \"orange\")"
   ]
  },
  {
   "cell_type": "code",
   "execution_count": null,
   "metadata": {},
   "outputs": [],
   "source": [
    "average_house_value(avg_house_val,\"Average House Value in Toronto\", \"year\", \"Avg House Value\", \"green\")"
   ]
  },
  {
   "cell_type": "code",
   "execution_count": null,
   "metadata": {},
   "outputs": [],
   "source": [
    "average_value_by_neighbourhood()"
   ]
  },
  {
   "cell_type": "code",
   "execution_count": null,
   "metadata": {},
   "outputs": [],
   "source": [
    "number_dwelling_types()"
   ]
  },
  {
   "cell_type": "code",
   "execution_count": null,
   "metadata": {},
   "outputs": [],
   "source": [
    "average_house_value_snapshot()"
   ]
  },
  {
   "cell_type": "code",
   "execution_count": null,
   "metadata": {},
   "outputs": [],
   "source": [
    "top_most_expensive_neighbourhoods()"
   ]
  },
  {
   "cell_type": "code",
   "execution_count": null,
   "metadata": {},
   "outputs": [],
   "source": [
    "sunburts_cost_analysis()"
   ]
  }
 ],
 "metadata": {
  "file_extension": ".py",
  "kernelspec": {
   "display_name": "Python [conda env:pyvienv] *",
   "language": "python",
   "name": "conda-env-pyvienv-py"
  },
  "language_info": {
   "codemirror_mode": {
    "name": "ipython",
    "version": 3
   },
   "file_extension": ".py",
   "mimetype": "text/x-python",
   "name": "python",
   "nbconvert_exporter": "python",
   "pygments_lexer": "ipython3",
   "version": "3.7.11"
  },
  "mimetype": "text/x-python",
  "name": "python",
  "npconvert_exporter": "python",
  "pygments_lexer": "ipython3",
  "version": 3
 },
 "nbformat": 4,
 "nbformat_minor": 4
}
